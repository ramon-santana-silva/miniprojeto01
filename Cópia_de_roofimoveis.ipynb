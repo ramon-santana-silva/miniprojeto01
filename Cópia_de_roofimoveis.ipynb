{
  "nbformat": 4,
  "nbformat_minor": 0,
  "metadata": {
    "colab": {
      "provenance": [],
      "authorship_tag": "ABX9TyNI4NcZqST2ZdtVBvR0Wtux",
      "include_colab_link": true
    },
    "kernelspec": {
      "name": "python3",
      "display_name": "Python 3"
    },
    "language_info": {
      "name": "python"
    }
  },
  "cells": [
    {
      "cell_type": "markdown",
      "metadata": {
        "id": "view-in-github",
        "colab_type": "text"
      },
      "source": [
        "<a href=\"https://colab.research.google.com/github/ramon-santana-silva/minprojeto01/blob/ManipulacaoDados/C%C3%B3pia_de_roofimoveis.ipynb\" target=\"_parent\"><img src=\"https://colab.research.google.com/assets/colab-badge.svg\" alt=\"Open In Colab\"/></a>"
      ]
    },
    {
      "cell_type": "code",
      "execution_count": null,
      "metadata": {
        "id": "mbdlwZblNbwD",
        "outputId": "dfd7e4fd-09b3-419a-d9af-96ea2b7696f5",
        "colab": {
          "base_uri": "https://localhost:8080/"
        }
      },
      "outputs": [
        {
          "output_type": "stream",
          "name": "stdout",
          "text": [
            "Looking in indexes: https://pypi.org/simple, https://us-python.pkg.dev/colab-wheels/public/simple/\n",
            "Requirement already satisfied: numpy in /usr/local/lib/python3.7/dist-packages (1.21.6)\n"
          ]
        }
      ],
      "source": [
        "#!pip install pandas\n",
        "#!pip install numpy\n"
      ]
    },
    {
      "cell_type": "markdown",
      "source": [
        "#  a venda de imóveis e suas características na região de King County\n",
        "Periodo de  Maio de 2014 à Maio de 2015."
      ],
      "metadata": {
        "id": "oAsG13rv43JY"
      }
    }
  ]
}