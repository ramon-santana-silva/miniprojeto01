{
  "nbformat": 4,
  "nbformat_minor": 0,
  "metadata": {
    "colab": {
      "provenance": [],
      "authorship_tag": "ABX9TyPnlrYKs9NTW4Chgi4r69t/",
      "include_colab_link": true
    },
    "kernelspec": {
      "name": "python3",
      "display_name": "Python 3"
    },
    "language_info": {
      "name": "python"
    }
  },
  "cells": [
    {
      "cell_type": "markdown",
      "metadata": {
        "id": "view-in-github",
        "colab_type": "text"
      },
      "source": [
        "<a href=\"https://colab.research.google.com/github/ramon-santana-silva/miniprojeto01/blob/main/roofimoveis.ipynb\" target=\"_parent\"><img src=\"https://colab.research.google.com/assets/colab-badge.svg\" alt=\"Open In Colab\"/></a>"
      ]
    },
    {
      "cell_type": "markdown",
      "source": [
        "<h1>Mini Projeto Roof Imóveis </h1>\n",
        "\n",
        "<h1>CONTEXTO</h1>\n",
        "Roof Imóveis é uma das maiores empresas do ramo imobiliário Brasileiro\n",
        "e quer expandir sua área de atuação fazendo um investimento internacional,\n",
        "com isso, uma consultoria estratégica permitirá investir em imóveis no Condado de County, nos Estados\n",
        "Unidos.\n",
        "<h1>OBJETIVO</h1>\n",
        "Construir um modelo que permite a \"Roof Imóveis\" identificar os 5 imóveis melhores para investir e quais o 5 imóveis que não deveria investir de forma alguma."
      ],
      "metadata": {
        "id": "gLzdWYFuN2tV"
      }
    },
    {
      "cell_type": "code",
      "execution_count": null,
      "metadata": {
        "id": "mbdlwZblNbwD"
      },
      "outputs": [],
      "source": [
        "#bibliotecas de manipulação de dados \n",
        "#!pip install pandas \n",
        "#!pip install numpy\n",
        "#!pip install seaborn\n",
        "#pip install matplotlib\n",
        "#!pip install sidetable\n"
      ]
    },
    {
      "cell_type": "code",
      "source": [
        "#importação das bibliotecas\n",
        "import matplotlib.pyplot as plt # plotting\n",
        "import numpy as np # linear algebra\n",
        "import pandas as pd # data processing, CSV file I/O (e.g. pd.read_csv)\n",
        "import seaborn as sns\n",
        "import sidetable as stb\n",
        "import plotly.express as px"
      ],
      "metadata": {
        "id": "pVtTwdjR76hG"
      },
      "execution_count": 2,
      "outputs": []
    },
    {
      "cell_type": "markdown",
      "source": [
        "O Dataset apresenta a venda de imóveis e suas características na região\n",
        "de Maio de 2014 à Maio de 2015. Tem um total de 21613 registros com um total\n",
        "de 21 atributos."
      ],
      "metadata": {
        "id": "U-9UsGf9lNsP"
      }
    },
    {
      "cell_type": "markdown",
      "source": [
        "<h2>Extração/ Obtenção de dados</h2>\n",
        "As bases de dados foram retiradas do site: https://www.kaggle.com/harlfoxem/housesalesprediction e https://geodacenter.github.io/data-and-lab/KingCounty-HouseSales2015/ e dataset extraidos do repositorio Github :'https://raw.githubusercontent.com/ramon-santana-silva/pythonCaseDNC/main/kc_house_data.csv' e 'https://raw.githubusercontent.com/ramon-santana-silva/pythonCaseDNC/main/Zipcodes_for_King_County_and_Surrounding_Area_(Shorelines)___zipcode_shore_area.csv'"
      ],
      "metadata": {
        "id": "vnO8R3vO-ezD"
      }
    },
    {
      "cell_type": "code",
      "source": [
        "#extraindo dataframe\n",
        "DATA_URL ='https://raw.githubusercontent.com/ramon-santana-silva/pythonCaseDNC/main/kc_house_data.csv'     \n",
        "#convertendo objeto para data parse_dates\n",
        "roof_df= pd.read_csv(DATA_URL,sep=',',parse_dates=[\"date\"])\n"
      ],
      "metadata": {
        "id": "wSU0YcvlKnwa"
      },
      "execution_count": 4,
      "outputs": []
    },
    {
      "cell_type": "markdown",
      "source": [
        "<h1>Informação das colunas do dataframe roof_df</h1>\n",
        "                             \n",
        "\n",
        "*   id - Identiﬁcador único do imóvel \n",
        "*   view - Grau de quão belo é a vista do imóvel (0 a 4)\n",
        "*   date - Data da Venda\n",
        "*   condition - Condição da casa (1 a 5)\n",
        "*   price - Preço de venda\n",
        "*   grade - Classiﬁcação por qualidade de material utilizado na\n",
        "construção\n",
        "*   bedrooms - Nº de Quartos\n",
        "*   bathrooms - Nº de Banheiros \n",
        "*   sqft_above - Área em acima do solo em ft²\n",
        "*   sqft_liv - Tamanho de área habitável em ft²sqft_basmtÁrea em abaixo do solo em ft²\n",
        "*   sqft_lot - Tamanho do terreno em ft²\n",
        "*   yr_built - Ano de construção\n",
        "*   ﬂoors - Número de andares\n",
        "*   yr_renov - Ano de restauração, caso o contrário, 0.\n",
        "*   zipcode - Zip Code 5 - Similar ao CEP\n",
        "*   waterfront - Indicativo se o imóvel é a beira-mar\n",
        "*   lat - Latitude\n",
        "*   long - Longitude\n",
        "*   squft_liv15 - Média da área habitável dos 15 imóveis mais próximos,\n",
        "em ft²\n",
        "*   squft_lot15 - Média da área do lote dos 15 imóveis mais próximos,\n",
        "em ft²\n",
        "\n",
        "\n",
        "\n",
        "\n",
        "\n",
        "\n",
        "\n",
        "\n",
        "\n",
        "\n",
        "\n"
      ],
      "metadata": {
        "id": "cNVVEl5KRa6k"
      }
    },
    {
      "cell_type": "code",
      "source": [
        "#extraindo dataframe zipcode_df\n",
        "DATA_URL2='https://raw.githubusercontent.com/ramon-santana-silva/pythonCaseDNC/main/Zipcodes_for_King_County_and_Surrounding_Area_(Shorelines)___zipcode_shore_area.csv'\n",
        "zipcode_df=pd.read_csv(DATA_URL2 , sep=\",\", encoding='UTF-8')\n",
        "\n"
      ],
      "metadata": {
        "id": "BraFmAIGcXUA"
      },
      "execution_count": 5,
      "outputs": []
    },
    {
      "cell_type": "markdown",
      "source": [
        "<h1>Informação das colunas do dataframe zipcode_df</h1>\n",
        "\n",
        "*  OBJECTID -\tCódigo ID\n",
        "*  zipcode - Zip Code 5 - Similar ao CEP\n",
        "*  COUNTY - Código do municipio\n",
        "*  COUNTY\tCounty code\n",
        "*  ZIP_TYPE -\ttipo de zipcode: padrão ou caixa postal\n",
        "*  Shape_Leng -\tcomprimento poligonal\n",
        "*  Shape_Area -\taréa poligonal\n",
        "\n",
        "\n",
        "\n",
        "\n",
        "\n",
        "\n"
      ],
      "metadata": {
        "id": "RzMi2KeCDcs6"
      }
    },
    {
      "cell_type": "markdown",
      "source": [
        "<h2>Limpeza dos Dataframes roof_df e zipcode_df </h2>\n",
        "Para uma analise mais clara e objetiva serão excluidas algumas colunas que não são necessarias nesse modelo de previsão de dados\n",
        "\n",
        "\n",
        "*   Tipo de colunas como:\n",
        "1.   Dados repedidos ou similares\n",
        "2.   Ids desnecessarios\n",
        "3.   Tipo de zipcode\n",
        "\n",
        "*   Filtrar por informações  alvo do projeto\n",
        "\n",
        "\n",
        "\n",
        "\n",
        "\n",
        "\n"
      ],
      "metadata": {
        "id": "73vMmRpZ9IRA"
      }
    },
    {
      "cell_type": "code",
      "source": [
        "#zipcode_df sendo reduzido atraves da criação de novo dataframe somente com o municipio de King County alvo do projeto\n",
        "zipKingCounty_df= zipcode_df[(zipcode_df.COUNTY == 33)]\n",
        "zipKingCounty_df"
      ],
      "metadata": {
        "id": "8Ab080M-G3gc"
      },
      "execution_count": null,
      "outputs": []
    },
    {
      "cell_type": "code",
      "source": [
        "#identificando valores únicos do dataframe zipKingCounty_df\n",
        "zipKingCounty_df.nunique()"
      ],
      "metadata": {
        "id": "xLIVSB3buE3c"
      },
      "execution_count": null,
      "outputs": []
    },
    {
      "cell_type": "code",
      "source": [
        "# Verificando o cabeçalho\n",
        "roof_df.head()"
      ],
      "metadata": {
        "id": "TQzQJRhRAxR_"
      },
      "execution_count": null,
      "outputs": []
    },
    {
      "cell_type": "code",
      "source": [
        "# Verificando informações do dataset\n",
        "roof_df.info()"
      ],
      "metadata": {
        "id": "_AwxX-1-A5b9"
      },
      "execution_count": null,
      "outputs": []
    },
    {
      "cell_type": "code",
      "source": [
        "zipcode_df.info()"
      ],
      "metadata": {
        "id": "UlA_-u_ngf-2",
        "colab": {
          "base_uri": "https://localhost:8080/"
        },
        "outputId": "29ceed8e-4e25-431a-be50-4617ae6d2c2e"
      },
      "execution_count": 131,
      "outputs": [
        {
          "output_type": "stream",
          "name": "stdout",
          "text": [
            "<class 'pandas.core.frame.DataFrame'>\n",
            "RangeIndex: 209 entries, 0 to 208\n",
            "Data columns (total 9 columns):\n",
            " #   Column          Non-Null Count  Dtype  \n",
            "---  ------          --------------  -----  \n",
            " 0   OBJECTID        209 non-null    int64  \n",
            " 1   ZIP             209 non-null    int64  \n",
            " 2   ZIPCODE         209 non-null    int64  \n",
            " 3   COUNTY          209 non-null    int64  \n",
            " 4   ZIP_TYPE        209 non-null    object \n",
            " 5   COUNTY_NAME     209 non-null    object \n",
            " 6   PREFERRED_CITY  209 non-null    object \n",
            " 7   Shape_Length    209 non-null    float64\n",
            " 8   Shape_Area      209 non-null    float64\n",
            "dtypes: float64(2), int64(4), object(3)\n",
            "memory usage: 14.8+ KB\n"
          ]
        }
      ]
    },
    {
      "cell_type": "code",
      "source": [
        "# Verificando quantos dados nulos há\n",
        "roof_df.isnull().sum()"
      ],
      "metadata": {
        "id": "GoL8k1jpBnVW"
      },
      "execution_count": null,
      "outputs": []
    },
    {
      "cell_type": "code",
      "source": [
        "#verificando quantos dados nulos há\n",
        "zipcode_df.isnull().sum()"
      ],
      "metadata": {
        "id": "71XdLOFCgvXu",
        "colab": {
          "base_uri": "https://localhost:8080/"
        },
        "outputId": "0ceca3cd-f7d1-42ff-8329-8262a44c449f"
      },
      "execution_count": 129,
      "outputs": [
        {
          "output_type": "execute_result",
          "data": {
            "text/plain": [
              "OBJECTID          0\n",
              "ZIP               0\n",
              "ZIPCODE           0\n",
              "COUNTY            0\n",
              "ZIP_TYPE          0\n",
              "COUNTY_NAME       0\n",
              "PREFERRED_CITY    0\n",
              "Shape_Length      0\n",
              "Shape_Area        0\n",
              "dtype: int64"
            ]
          },
          "metadata": {},
          "execution_count": 129
        }
      ]
    },
    {
      "cell_type": "code",
      "source": [
        "df=pd.merge(roof_df, zipcode_df, left_on='zipcode', right_on='ZIPCODE', how='left').drop('ZIPCODE',axis=1).drop('COUNTY',axis=1).drop('ZIP_TYPE',axis=1).drop('COUNTY_NAME',axis=1)  \n",
        "df.head(5)\n"
      ],
      "metadata": {
        "id": "0jnoIceUhdvu"
      },
      "execution_count": null,
      "outputs": []
    },
    {
      "cell_type": "code",
      "source": [
        "#identificando valores únicos do dataframe df\n",
        "df.nunique()"
      ],
      "metadata": {
        "id": "jneZmIZPWWbo"
      },
      "execution_count": null,
      "outputs": []
    },
    {
      "cell_type": "code",
      "source": [
        "#removendo coluna zip pois no zipcode tem as mesmas informações\n",
        "df.drop('ZIP', axis=1, inplace=True)\n"
      ],
      "metadata": {
        "id": "QulfYc1PXMJg"
      },
      "execution_count": 10,
      "outputs": []
    },
    {
      "cell_type": "code",
      "source": [
        "#removendo coluna id\n",
        "df.drop('id', axis=1, inplace=True)"
      ],
      "metadata": {
        "id": "uqEwzI65SaG-"
      },
      "execution_count": 11,
      "outputs": []
    },
    {
      "cell_type": "code",
      "source": [
        "#funções para ajustar data\n",
        "df['month']=df['date'].apply(lambda date:date.month)\n",
        "df['year']= df['date'].apply(lambda date:date.year)\n",
        "#sns.boxplot(x='year', y='price', data=df);"
      ],
      "metadata": {
        "id": "bEBMoHtJrz2u"
      },
      "execution_count": 12,
      "outputs": []
    },
    {
      "cell_type": "code",
      "source": [
        "df.info()"
      ],
      "metadata": {
        "colab": {
          "base_uri": "https://localhost:8080/"
        },
        "id": "uOeLVRFsQ6Ht",
        "outputId": "7b9a2f0f-2cf4-4fd2-df97-73abdd39a7e4"
      },
      "execution_count": 130,
      "outputs": [
        {
          "output_type": "stream",
          "name": "stdout",
          "text": [
            "<class 'pandas.core.frame.DataFrame'>\n",
            "Int64Index: 23309 entries, 0 to 23308\n",
            "Data columns (total 26 columns):\n",
            " #   Column          Non-Null Count  Dtype         \n",
            "---  ------          --------------  -----         \n",
            " 0   date            23309 non-null  datetime64[ns]\n",
            " 1   price           23309 non-null  float64       \n",
            " 2   bedrooms        23309 non-null  int64         \n",
            " 3   bathrooms       23309 non-null  float64       \n",
            " 4   sqft_living     23309 non-null  int64         \n",
            " 5   sqft_lot        23309 non-null  int64         \n",
            " 6   floors          23309 non-null  float64       \n",
            " 7   waterfront      23309 non-null  int64         \n",
            " 8   view            23309 non-null  int64         \n",
            " 9   condition       23309 non-null  int64         \n",
            " 10  grade           23309 non-null  int64         \n",
            " 11  sqft_above      23309 non-null  int64         \n",
            " 12  sqft_basement   23309 non-null  int64         \n",
            " 13  yr_built        23309 non-null  int64         \n",
            " 14  yr_renovated    23309 non-null  int64         \n",
            " 15  zipcode         23309 non-null  int64         \n",
            " 16  lat             23309 non-null  float64       \n",
            " 17  long            23309 non-null  float64       \n",
            " 18  sqft_living15   23309 non-null  int64         \n",
            " 19  sqft_lot15      23309 non-null  int64         \n",
            " 20  OBJECTID        23309 non-null  int64         \n",
            " 21  PREFERRED_CITY  23309 non-null  object        \n",
            " 22  Shape_Length    23309 non-null  float64       \n",
            " 23  Shape_Area      23309 non-null  float64       \n",
            " 24  month           23309 non-null  int64         \n",
            " 25  year            23309 non-null  int64         \n",
            "dtypes: datetime64[ns](1), float64(7), int64(17), object(1)\n",
            "memory usage: 5.3+ MB\n"
          ]
        }
      ]
    },
    {
      "cell_type": "code",
      "source": [
        "display(df)"
      ],
      "metadata": {
        "id": "GURAQbWFYtty"
      },
      "execution_count": null,
      "outputs": []
    },
    {
      "cell_type": "code",
      "source": [
        "df.describe().transpose()"
      ],
      "metadata": {
        "id": "qq8RFBmXR-Bg"
      },
      "execution_count": null,
      "outputs": []
    },
    {
      "cell_type": "markdown",
      "source": [
        "<h1>Colunas importantes para Analise dos Dados</h1>\n"
      ],
      "metadata": {
        "id": "4J-IvqzjJ9Uc"
      }
    },
    {
      "cell_type": "code",
      "source": [
        "#referência da coluna 'price' para de forma resumida e organizada seja obtido as medidas de tendência central como media, mediana e moda.\n",
        "pd.DataFrame(df['price'].describe())\n"
      ],
      "metadata": {
        "id": "qgwhHVniKH25"
      },
      "execution_count": null,
      "outputs": []
    },
    {
      "cell_type": "code",
      "source": [
        "#obtendo informações de frequencia absoluta e relativa das condições do imóveis entre 1 a 5. sendo 1 muito ruim e 5 muito bom\n",
        "df_percent_condition=df.stb.freq(['condition'])\n",
        "plt.pie(x=df_percent_condition['percent'],labels=df_percent_condition.condition);\n"
      ],
      "metadata": {
        "id": "hMzTHajWRfj1"
      },
      "execution_count": null,
      "outputs": []
    },
    {
      "cell_type": "markdown",
      "source": [
        "<h1>Analise Exploratória </h1>\n",
        "\n",
        "\n",
        "*   Observar caracteristicas por caracteristicas das colunas:\n",
        "1.   Utilizar a analise qualitativa Quantil para eliminar Outliers\n",
        "2.   Item da lista\n",
        "\n",
        "\n",
        "*   analisar valores númericos discretos(bedrooms,bathrooms\tsqft_living,sqft_lot,floors)\n",
        "\n"
      ],
      "metadata": {
        "id": "LqVxWj4gS3d0"
      }
    },
    {
      "cell_type": "code",
      "source": [
        "plt.figure(figsize=(15,10))\n",
        "sns.heatmap(df.corr(), annot=True, cmap='Blues');"
      ],
      "metadata": {
        "id": "5oc5cdpMa_jR"
      },
      "execution_count": null,
      "outputs": []
    },
    {
      "cell_type": "code",
      "source": [
        "#funções para definição de Analise de outliers\n",
        "columns=df\n",
        "def limites(columns):\n",
        "  q1=columns.quantile(.25)\n",
        "  q3=columns.quantile(.75)\n",
        "  amplitude= q3-q1\n",
        "  return q1-1.5*amplitude, q3+1.5*amplitude\n",
        "def diagrama_caixa(columns):\n",
        "  fig,(ax1, ax2)= plt.subplots(1,2)\n",
        "  fig.set_size_inches(15,5)\n",
        "  sns.boxplot(x=columns, ax=ax1)\n",
        "  ax2.set_xlim(limites(columns))\n",
        "  sns.boxplot(x=columns, ax=ax2)\n",
        "def histograma(columns):\n",
        "  plt.figure(figsize=(15,5))\n",
        "  sns.distplot(columns, hist=True)\n",
        "def grafico_barra(columns):\n",
        "  plt.figure(figsize=(15,5))\n",
        "  ax=sns.barplot(x=columns.value_counts().index,y=columns.value_counts())\n",
        "  ax.set_xlim(limites(columns))\n",
        "def grafico_barra2(columns,columns2):\n",
        "  plt.figure(figsize=(20,25))\n",
        "  plt.xlabel('PREFERRED_CITY',fontsize=20)\n",
        "  plt.ylabel('price', fontsize=20)\n",
        "  plt.xticks(rotation=75, fontsize=20)\n",
        "  ax=sns.barplot(x=columns,y=columns2)\n",
        "  ax.set_xlim(limites(columns))\n",
        "def grafico_caixa(column,column2):\n",
        "  plt.figure(figsize=[12, 6])\n",
        "  plt.subplot(122)\n",
        "  plt.xticks(rotation=75, fontsize=10)\n",
        "  sns.boxplot(x=column, y=column2, data=df)\n",
        "  plt.show()"
      ],
      "metadata": {
        "id": "3VbGhBMzeHqJ"
      },
      "execution_count": 107,
      "outputs": []
    },
    {
      "cell_type": "markdown",
      "source": [
        "<h1>Price</h1>"
      ],
      "metadata": {
        "id": "n1K8YG4OrMJJ"
      }
    },
    {
      "cell_type": "code",
      "source": [
        "df.sort_values('price',ascending=False).head(5)"
      ],
      "metadata": {
        "id": "wNwS_7tQ-0A8"
      },
      "execution_count": null,
      "outputs": []
    },
    {
      "cell_type": "code",
      "source": [
        "diagrama_caixa(df['price'])\n",
        "histograma(df['price'])"
      ],
      "metadata": {
        "id": "dowb1hiWrVaf"
      },
      "execution_count": null,
      "outputs": []
    },
    {
      "cell_type": "code",
      "source": [
        "grafico_caixa('PREFERRED_CITY','price')"
      ],
      "metadata": {
        "id": "xN0TiD2OImNE"
      },
      "execution_count": null,
      "outputs": []
    },
    {
      "cell_type": "markdown",
      "source": [
        "<h1>Grade</h1>"
      ],
      "metadata": {
        "id": "S9RlFbCk61Ue"
      }
    },
    {
      "cell_type": "code",
      "source": [
        "grafico_barra(df['grade'])"
      ],
      "metadata": {
        "id": "oX-tqj03pH02"
      },
      "execution_count": null,
      "outputs": []
    },
    {
      "cell_type": "markdown",
      "source": [
        "<h1>Bedrooms</h1>\n"
      ],
      "metadata": {
        "id": "1DHf1ZyO7ftW"
      }
    },
    {
      "cell_type": "code",
      "source": [
        "diagrama_caixa(df['bedrooms'])\n",
        "grafico_barra(df['bedrooms'])"
      ],
      "metadata": {
        "colab": {
          "base_uri": "https://localhost:8080/",
          "height": 637
        },
        "id": "idXeZMmE7luH",
        "outputId": "095c804a-4575-4034-ac5d-00425150af13"
      },
      "execution_count": 110,
      "outputs": [
        {
          "output_type": "display_data",
          "data": {
            "text/plain": [
              "<Figure size 1080x360 with 2 Axes>"
            ],
            "image/png": "[encoded data removed]"
          },
          "metadata": {
            "needs_background": "light"
          }
        },
        {
          "output_type": "display_data",
          "data": {
            "text/plain": [
              "<Figure size 1080x360 with 1 Axes>"
            ],
            "image/png": "[encoded data removed]"
          },
          "metadata": {
            "needs_background": "light"
          }
        }
      ]
    },
    {
      "cell_type": "markdown",
      "source": [
        "<h2>Visualização  do mapa</h2>\n",
        "\n",
        "\n",
        "\n"
      ],
      "metadata": {
        "id": "fZ9xJ-tVlvxV"
      }
    },
    {
      "cell_type": "code",
      "source": [
        "df['lat'].max()"
      ],
      "metadata": {
        "colab": {
          "base_uri": "https://localhost:8080/"
        },
        "id": "6ZMnk3eTTzLM",
        "outputId": "db7959bc-3f3d-42e6-9cda-e9b5a17f7d7a"
      },
      "execution_count": 125,
      "outputs": [
        {
          "output_type": "execute_result",
          "data": {
            "text/plain": [
              "47.7776"
            ]
          },
          "metadata": {},
          "execution_count": 125
        }
      ]
    },
    {
      "cell_type": "code",
      "source": [
        "long_max=df['long'].max()"
      ],
      "metadata": {
        "id": "2aqNA2aJT6ic"
      },
      "execution_count": 123,
      "outputs": []
    },
    {
      "cell_type": "code",
      "source": [
        "df['OBJECTID']"
      ],
      "metadata": {
        "colab": {
          "base_uri": "https://localhost:8080/"
        },
        "id": "dDXchpXvjrxX",
        "outputId": "c0516bb3-d1ef-4329-df53-4efa221ba095"
      },
      "execution_count": 138,
      "outputs": [
        {
          "output_type": "execute_result",
          "data": {
            "text/plain": [
              "0        97\n",
              "1        81\n",
              "2        24\n",
              "3        85\n",
              "4        56\n",
              "         ..\n",
              "23304    65\n",
              "23305    87\n",
              "23306    86\n",
              "23307    23\n",
              "23308    86\n",
              "Name: OBJECTID, Length: 23309, dtype: int64"
            ]
          },
          "metadata": {},
          "execution_count": 138
        }
      ]
    },
    {
      "cell_type": "code",
      "source": [
        "#amostra do mapa  \n",
        "fig = px.scatter_mapbox(\n",
        "    df,\n",
        "    lat=\"lat\",\n",
        "    lon=\"long\",\n",
        "    hover_name=\"OBJECTID\",\n",
        "    hover_data=[\"PREFERRED_CITY\", \"price\"],\n",
        "    color_discrete_sequence=[\"fuchsia\"],\n",
        "    zoom=3,\n",
        "    height=300,)\n",
        "fig.update_layout(mapbox_style=\"open-street-map\")\n",
        "fig.update_layout(margin={\"r\": 0, \"t\": 0, \"l\": 0, \"b\": 0})\n",
        "fig.update_layout(mapbox_bounds={\"west\": -180, \"east\": -50, \"south\": 20, \"north\": 90})\n",
        "fig.show()"
      ],
      "metadata": {
        "id": "KJfUk905CFWJ",
        "colab": {
          "base_uri": "https://localhost:8080/",
          "height": 1000
        },
        "outputId": "212879f3-c36d-416b-b0a5-a61ec943b161"
      },
      "execution_count": 143,
      "outputs": [
        {
          "output_type": "error",
          "ename": "ValueError",
          "evalue": "ignored",
          "traceback": [
            "\u001b[0;31m---------------------------------------------------------------------------\u001b[0m",
            "\u001b[0;31mValueError\u001b[0m                                Traceback (most recent call last)",
            "\u001b[0;32m<ipython-input-143-cc269a6df762>\u001b[0m in \u001b[0;36m<module>\u001b[0;34m\u001b[0m\n\u001b[1;32m     11\u001b[0m \u001b[0mfig\u001b[0m\u001b[0;34m.\u001b[0m\u001b[0mupdate_layout\u001b[0m\u001b[0;34m(\u001b[0m\u001b[0mmapbox_style\u001b[0m\u001b[0;34m=\u001b[0m\u001b[0;34m\"open-street-map\"\u001b[0m\u001b[0;34m)\u001b[0m\u001b[0;34m\u001b[0m\u001b[0;34m\u001b[0m\u001b[0m\n\u001b[1;32m     12\u001b[0m \u001b[0mfig\u001b[0m\u001b[0;34m.\u001b[0m\u001b[0mupdate_layout\u001b[0m\u001b[0;34m(\u001b[0m\u001b[0mmargin\u001b[0m\u001b[0;34m=\u001b[0m\u001b[0;34m{\u001b[0m\u001b[0;34m\"r\"\u001b[0m\u001b[0;34m:\u001b[0m \u001b[0;36m0\u001b[0m\u001b[0;34m,\u001b[0m \u001b[0;34m\"t\"\u001b[0m\u001b[0;34m:\u001b[0m \u001b[0;36m0\u001b[0m\u001b[0;34m,\u001b[0m \u001b[0;34m\"l\"\u001b[0m\u001b[0;34m:\u001b[0m \u001b[0;36m0\u001b[0m\u001b[0;34m,\u001b[0m \u001b[0;34m\"b\"\u001b[0m\u001b[0;34m:\u001b[0m \u001b[0;36m0\u001b[0m\u001b[0;34m}\u001b[0m\u001b[0;34m)\u001b[0m\u001b[0;34m\u001b[0m\u001b[0;34m\u001b[0m\u001b[0m\n\u001b[0;32m---> 13\u001b[0;31m \u001b[0mfig\u001b[0m\u001b[0;34m.\u001b[0m\u001b[0mupdate_layout\u001b[0m\u001b[0;34m(\u001b[0m\u001b[0mmapbox_bounds\u001b[0m\u001b[0;34m=\u001b[0m\u001b[0;34m{\u001b[0m\u001b[0;34m\"west\"\u001b[0m\u001b[0;34m:\u001b[0m \u001b[0;34m-\u001b[0m\u001b[0;36m180\u001b[0m\u001b[0;34m,\u001b[0m \u001b[0;34m\"east\"\u001b[0m\u001b[0;34m:\u001b[0m \u001b[0;34m-\u001b[0m\u001b[0;36m50\u001b[0m\u001b[0;34m,\u001b[0m \u001b[0;34m\"south\"\u001b[0m\u001b[0;34m:\u001b[0m \u001b[0;36m20\u001b[0m\u001b[0;34m,\u001b[0m \u001b[0;34m\"north\"\u001b[0m\u001b[0;34m:\u001b[0m \u001b[0;36m90\u001b[0m\u001b[0;34m}\u001b[0m\u001b[0;34m)\u001b[0m\u001b[0;34m\u001b[0m\u001b[0;34m\u001b[0m\u001b[0m\n\u001b[0m\u001b[1;32m     14\u001b[0m \u001b[0mfig\u001b[0m\u001b[0;34m.\u001b[0m\u001b[0mshow\u001b[0m\u001b[0;34m(\u001b[0m\u001b[0;34m)\u001b[0m\u001b[0;34m\u001b[0m\u001b[0;34m\u001b[0m\u001b[0m\n",
            "\u001b[0;32m/usr/local/lib/python3.7/dist-packages/plotly/basedatatypes.py\u001b[0m in \u001b[0;36mupdate_layout\u001b[0;34m(self, dict1, overwrite, **kwargs)\u001b[0m\n\u001b[1;32m   1401\u001b[0m             \u001b[0mThe\u001b[0m \u001b[0mFigure\u001b[0m \u001b[0mobject\u001b[0m \u001b[0mthat\u001b[0m \u001b[0mthe\u001b[0m \u001b[0mupdate_layout\u001b[0m \u001b[0mmethod\u001b[0m \u001b[0mwas\u001b[0m \u001b[0mcalled\u001b[0m \u001b[0mon\u001b[0m\u001b[0;34m\u001b[0m\u001b[0;34m\u001b[0m\u001b[0m\n\u001b[1;32m   1402\u001b[0m         \"\"\"\n\u001b[0;32m-> 1403\u001b[0;31m         \u001b[0mself\u001b[0m\u001b[0;34m.\u001b[0m\u001b[0mlayout\u001b[0m\u001b[0;34m.\u001b[0m\u001b[0mupdate\u001b[0m\u001b[0;34m(\u001b[0m\u001b[0mdict1\u001b[0m\u001b[0;34m,\u001b[0m \u001b[0moverwrite\u001b[0m\u001b[0;34m=\u001b[0m\u001b[0moverwrite\u001b[0m\u001b[0;34m,\u001b[0m \u001b[0;34m**\u001b[0m\u001b[0mkwargs\u001b[0m\u001b[0;34m)\u001b[0m\u001b[0;34m\u001b[0m\u001b[0;34m\u001b[0m\u001b[0m\n\u001b[0m\u001b[1;32m   1404\u001b[0m         \u001b[0;32mreturn\u001b[0m \u001b[0mself\u001b[0m\u001b[0;34m\u001b[0m\u001b[0;34m\u001b[0m\u001b[0m\n\u001b[1;32m   1405\u001b[0m \u001b[0;34m\u001b[0m\u001b[0m\n",
            "\u001b[0;32m/usr/local/lib/python3.7/dist-packages/plotly/basedatatypes.py\u001b[0m in \u001b[0;36mupdate\u001b[0;34m(self, dict1, overwrite, **kwargs)\u001b[0m\n\u001b[1;32m   5088\u001b[0m             \u001b[0;32mwith\u001b[0m \u001b[0mself\u001b[0m\u001b[0;34m.\u001b[0m\u001b[0mfigure\u001b[0m\u001b[0;34m.\u001b[0m\u001b[0mbatch_update\u001b[0m\u001b[0;34m(\u001b[0m\u001b[0;34m)\u001b[0m\u001b[0;34m:\u001b[0m\u001b[0;34m\u001b[0m\u001b[0;34m\u001b[0m\u001b[0m\n\u001b[1;32m   5089\u001b[0m                 \u001b[0mBaseFigure\u001b[0m\u001b[0;34m.\u001b[0m\u001b[0m_perform_update\u001b[0m\u001b[0;34m(\u001b[0m\u001b[0mself\u001b[0m\u001b[0;34m,\u001b[0m \u001b[0mdict1\u001b[0m\u001b[0;34m,\u001b[0m \u001b[0moverwrite\u001b[0m\u001b[0;34m=\u001b[0m\u001b[0moverwrite\u001b[0m\u001b[0;34m)\u001b[0m\u001b[0;34m\u001b[0m\u001b[0;34m\u001b[0m\u001b[0m\n\u001b[0;32m-> 5090\u001b[0;31m                 \u001b[0mBaseFigure\u001b[0m\u001b[0;34m.\u001b[0m\u001b[0m_perform_update\u001b[0m\u001b[0;34m(\u001b[0m\u001b[0mself\u001b[0m\u001b[0;34m,\u001b[0m \u001b[0mkwargs\u001b[0m\u001b[0;34m,\u001b[0m \u001b[0moverwrite\u001b[0m\u001b[0;34m=\u001b[0m\u001b[0moverwrite\u001b[0m\u001b[0;34m)\u001b[0m\u001b[0;34m\u001b[0m\u001b[0;34m\u001b[0m\u001b[0m\n\u001b[0m\u001b[1;32m   5091\u001b[0m         \u001b[0;32melse\u001b[0m\u001b[0;34m:\u001b[0m\u001b[0;34m\u001b[0m\u001b[0;34m\u001b[0m\u001b[0m\n\u001b[1;32m   5092\u001b[0m             \u001b[0mBaseFigure\u001b[0m\u001b[0;34m.\u001b[0m\u001b[0m_perform_update\u001b[0m\u001b[0;34m(\u001b[0m\u001b[0mself\u001b[0m\u001b[0;34m,\u001b[0m \u001b[0mdict1\u001b[0m\u001b[0;34m,\u001b[0m \u001b[0moverwrite\u001b[0m\u001b[0;34m=\u001b[0m\u001b[0moverwrite\u001b[0m\u001b[0;34m)\u001b[0m\u001b[0;34m\u001b[0m\u001b[0;34m\u001b[0m\u001b[0m\n",
            "\u001b[0;32m/usr/local/lib/python3.7/dist-packages/plotly/basedatatypes.py\u001b[0m in \u001b[0;36m_perform_update\u001b[0;34m(plotly_obj, update_obj, overwrite)\u001b[0m\n\u001b[1;32m   3883\u001b[0m                     \u001b[0;31m# contain the _raise_on_invalid_property_error\u001b[0m\u001b[0;34m\u001b[0m\u001b[0;34m\u001b[0m\u001b[0;34m\u001b[0m\u001b[0m\n\u001b[1;32m   3884\u001b[0m                     \u001b[0;31m# generated message\u001b[0m\u001b[0;34m\u001b[0m\u001b[0;34m\u001b[0m\u001b[0;34m\u001b[0m\u001b[0m\n\u001b[0;32m-> 3885\u001b[0;31m                     \u001b[0;32mraise\u001b[0m \u001b[0merr\u001b[0m\u001b[0;34m\u001b[0m\u001b[0;34m\u001b[0m\u001b[0m\n\u001b[0m\u001b[1;32m   3886\u001b[0m \u001b[0;34m\u001b[0m\u001b[0m\n\u001b[1;32m   3887\u001b[0m             \u001b[0;31m# Convert update_obj to dict\u001b[0m\u001b[0;34m\u001b[0m\u001b[0;34m\u001b[0m\u001b[0;34m\u001b[0m\u001b[0m\n",
            "\u001b[0;31mValueError\u001b[0m: Invalid property specified for object of type plotly.graph_objs.layout.Mapbox: 'bounds'\n\nDid you mean \"domain\"?\n\n    Valid properties:\n        accesstoken\n            Sets the mapbox access token to be used for this mapbox\n            map. Alternatively, the mapbox access token can be set\n            in the configuration options under `mapboxAccessToken`.\n            Note that accessToken are only required when `style`\n            (e.g with values : basic, streets, outdoors, light,\n            dark, satellite, satellite-streets ) and/or a layout\n            layer references the Mapbox server.\n        bearing\n            Sets the bearing angle of the map in degrees counter-\n            clockwise from North (mapbox.bearing).\n        center\n            :class:`plotly.graph_objects.layout.mapbox.Center`\n            instance or dict with compatible properties\n        domain\n            :class:`plotly.graph_objects.layout.mapbox.Domain`\n            instance or dict with compatible properties\n        layers\n            A tuple of\n            :class:`plotly.graph_objects.layout.mapbox.Layer`\n            instances or dicts with compatible properties\n        layerdefaults\n            When used in a template (as\n            layout.template.layout.mapbox.layerdefaults), sets the\n            default property values to use for elements of\n            layout.mapbox.layers\n        pitch\n            Sets the pitch angle of the map (in degrees, where 0\n            means perpendicular to the surface of the map)\n            (mapbox.pitch).\n        style\n            Defines the map layers that are rendered by default\n            below the trace layers defined in `data`, which are\n            themselves by default rendered below the layers defined\n            in `layout.mapbox.layers`.  These layers can be defined\n            either explicitly as a Mapbox Style object which can\n            contain multiple layer definitions that load data from\n            any public or private Tile Map Service (TMS or XYZ) or\n            Web Map Service (WMS) or implicitly by using one of the\n            built-in style objects which use WMSes which do not\n            require any access tokens, or by using a default Mapbox\n            style or custom Mapbox style URL, both of which require\n            a Mapbox access token  Note that Mapbox access token\n            can be set in the `accesstoken` attribute or in the\n            `mapboxAccessToken` config option.  Mapbox Style\n            objects are of the form described in the Mapbox GL JS\n            documentation available at\n            https://docs.mapbox.com/mapbox-gl-js/style-spec  The\n            built-in plotly.js styles objects are: carto-\n            darkmatter, carto-positron, open-street-map, stamen-\n            terrain, stamen-toner, stamen-watercolor, white-bg  The\n            built-in Mapbox styles are: basic, streets, outdoors,\n            light, dark, satellite, satellite-streets  Mapbox style\n            URLs are of the form:\n            mapbox://mapbox.mapbox-<name>-<version>\n        uirevision\n            Controls persistence of user-driven changes in the\n            view: `center`, `zoom`, `bearing`, `pitch`. Defaults to\n            `layout.uirevision`.\n        zoom\n            Sets the zoom level of the map (mapbox.zoom).\n        \nDid you mean \"domain\"?\n\nBad property path:\nmapbox_bounds\n       ^^^^^^"
          ]
        }
      ]
    },
    {
      "cell_type": "markdown",
      "source": [
        "<h1>Modelo de previsão para saber quais os 5 imoveis se deve investir</h1>\n",
        "*   problema de regressão\n",
        "1.   Metrica R²- variacia dos dados\n",
        "2.   RSME (Raiz do erro quadrático Médio)\n",
        "\n",
        "\n",
        "\n"
      ],
      "metadata": {
        "id": "LNJd1PS5x3Ps"
      }
    },
    {
      "cell_type": "code",
      "source": [
        "#encontrar a cidade do imovel\n",
        "df['PREFERRED_CITY'].value_counts()\n"
      ],
      "metadata": {
        "id": "XfnTKU1GrXoE",
        "outputId": "391229fb-5f75-4b22-d238-46b08b36434c",
        "colab": {
          "base_uri": "https://localhost:8080/"
        }
      },
      "execution_count": 144,
      "outputs": [
        {
          "output_type": "execute_result",
          "data": {
            "text/plain": [
              "SEATTLE          9232\n",
              "RENTON           1597\n",
              "BELLEVUE         1407\n",
              "AUBURN           1263\n",
              "KENT             1203\n",
              "REDMOND           979\n",
              "KIRKLAND          977\n",
              "WOODINVILLE       942\n",
              "FEDERAL WAY       779\n",
              "ISSAQUAH          733\n",
              "MAPLE VALLEY      590\n",
              "ENUMCLAW          468\n",
              "SAMMAMISH         441\n",
              "BOTHELL           390\n",
              "DUVALL            380\n",
              "SAMMAMIISH        359\n",
              "SNOQUALMIE        310\n",
              "KENMORE           283\n",
              "MERCER ISLAND     282\n",
              "NORTH BEND        221\n",
              "CARNATION         124\n",
              "VASHON            118\n",
              "BLACK DIAMOND     100\n",
              "FALL CITY          81\n",
              "MEDINA             50\n",
              "Name: PREFERRED_CITY, dtype: int64"
            ]
          },
          "metadata": {},
          "execution_count": 144
        }
      ]
    },
    {
      "cell_type": "code",
      "source": [
        "df['zipcode'].value_counts()"
      ],
      "metadata": {
        "id": "rFA5EgSFZCAq"
      },
      "execution_count": null,
      "outputs": []
    }
  ]
}