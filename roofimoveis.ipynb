{
  "nbformat": 4,
  "nbformat_minor": 0,
  "metadata": {
    "colab": {
      "provenance": [],
      "authorship_tag": "ABX9TyPCZtsyK1oYVVecq0+fBxF5",
      "include_colab_link": true
    },
    "kernelspec": {
      "name": "python3",
      "display_name": "Python 3"
    },
    "language_info": {
      "name": "python"
    }
  },
  "cells": [
    {
      "cell_type": "markdown",
      "metadata": {
        "id": "view-in-github",
        "colab_type": "text"
      },
      "source": [
        "<a href=\"https://colab.research.google.com/github/ramon-santana-silva/miniprojeto01/blob/main/roofimoveis.ipynb\" target=\"_parent\"><img src=\"https://colab.research.google.com/assets/colab-badge.svg\" alt=\"Open In Colab\"/></a>"
      ]
    },
    {
      "cell_type": "markdown",
      "source": [
        "<h1>Mini Projeto Roof Imóveis </h1>\n",
        "<h3>A venda de imóveis e suas características na região de King County</h3>>\n",
        "Periodo de  Maio de 2014 à Maio de 2015."
      ],
      "metadata": {
        "id": "gLzdWYFuN2tV"
      }
    },
    {
      "cell_type": "code",
      "execution_count": null,
      "metadata": {
        "id": "mbdlwZblNbwD"
      },
      "outputs": [],
      "source": [
        "#bibliotecas de manipulação de dados \n",
        "#!pip install pandas \n",
        "#!pip install numpy\n",
        "#!pip install seaborn\n",
        "#pip install matplotlib\n"
      ]
    },
    {
      "cell_type": "markdown",
      "source": [],
      "metadata": {
        "id": "oAsG13rv43JY"
      }
    },
    {
      "cell_type": "code",
      "source": [
        "import matplotlib.pyplot as plt # plotting\n",
        "import numpy as np # linear algebra\n",
        "import pandas as pd # data processing, CSV file I/O (e.g. pd.read_csv)\n",
        "import seaborn as sns"
      ],
      "metadata": {
        "id": "pVtTwdjR76hG"
      },
      "execution_count": 1,
      "outputs": []
    },
    {
      "cell_type": "markdown",
      "source": [
        "O Dataset apresenta a venda de imóveis e suas características na região\n",
        "de Maio de 2014 à Maio de 2015. Tem um total de 21613 registros com um total\n",
        "de 21 atributos."
      ],
      "metadata": {
        "id": "U-9UsGf9lNsP"
      }
    },
    {
      "cell_type": "markdown",
      "source": [
        "<h2>Extração/ Obtenção de dados</h2>"
      ],
      "metadata": {
        "id": "vnO8R3vO-ezD"
      }
    },
    {
      "cell_type": "code",
      "source": [
        "#extraindo dataframe\n",
        "DATA_URL ='https://raw.githubusercontent.com/ramon-santana-silva/pythonCaseDNC/main/kc_house_data.csv'     \n",
        "#convertendo objeto para data parse_dates\n",
        "roof_df= pd.read_csv(DATA_URL,sep=',',parse_dates=[\"date\"])\n",
        "roof_df"
      ],
      "metadata": {
        "id": "wSU0YcvlKnwa"
      },
      "execution_count": null,
      "outputs": []
    },
    {
      "cell_type": "markdown",
      "source": [
        "<h1>Informação das colunas </h1>\n",
        "                             \n",
        "\n",
        "*   id - Identiﬁcador único do imóvel \n",
        "*   view - Grau de quão belo é a vista do imóvel (0 a 4)\n",
        "*   date - Data da VendaconditionCondição da casa (1 a 5)\n",
        "*   price - Preço de venda\n",
        "*   grade - Classiﬁcação por qualidade de material utilizado na\n",
        "construção\n",
        "*   bedrooms - Nº de Quartos\n",
        "*   bathrooms - Nº de Banheiros \n",
        "*   sqft_above - Área em acima do solo em ft²\n",
        "*   sqft_liv - Tamanho de área habitável em ft²sqft_basmtÁrea em abaixo do solo em ft²\n",
        "*   sqft_lot - Tamanho do terreno em ft²\n",
        "*   yr_built - Ano de construção\n",
        "*   ﬂoors - Número de andares\n",
        "*   yr_renov - Ano de restauração, caso o contrário, 0.\n",
        "*   zipcode - Zip Code 5 - Similar ao CEP\n",
        "*   waterfront - Indicativo se o imóvel é a beira-mar\n",
        "*   lat - Latitude\n",
        "*   long - Longitude\n",
        "*   squft_liv15 - Média da área habitável dos 15 imóveis mais próximos,\n",
        "em ft²\n",
        "*   squft_lot15 - Média da área do lote dos 15 imóveis mais próximos,\n",
        "em ft²\n",
        "\n",
        "\n",
        "\n",
        "\n",
        "\n",
        "\n",
        "\n",
        "\n",
        "\n",
        "\n",
        "\n"
      ],
      "metadata": {
        "id": "cNVVEl5KRa6k"
      }
    },
    {
      "cell_type": "code",
      "source": [
        "#extraindo dataframe zipcode_df\n",
        "DATA_URL2='https://raw.githubusercontent.com/ramon-santana-silva/pythonCaseDNC/main/Zipcodes_for_King_County_and_Surrounding_Area_(Shorelines)___zipcode_shore_area.csv'\n",
        "zipcode_df=pd.read_csv(DATA_URL2 , sep=\",\", encoding='UTF-8')\n",
        "\n"
      ],
      "metadata": {
        "id": "BraFmAIGcXUA",
        "outputId": "ffcca3c0-2f75-4b0f-fc68-5ac1eac548c4",
        "colab": {
          "base_uri": "https://localhost:8080/",
          "height": 424
        }
      },
      "execution_count": 19,
      "outputs": [
        {
          "output_type": "execute_result",
          "data": {
            "text/plain": [
              "     OBJECTID    ZIP  ZIPCODE  COUNTY  ZIP_TYPE  COUNTY_NAME PREFERRED_CITY  \\\n",
              "0           1  98001    98001      33  Standard  King County         AUBURN   \n",
              "1           2  98002    98002      33  Standard  King County         AUBURN   \n",
              "2           3  98003    98003      33  Standard  King County    FEDERAL WAY   \n",
              "3           4  98004    98004      33  Standard  King County       BELLEVUE   \n",
              "4           5  98005    98005      33  Standard  King County       BELLEVUE   \n",
              "..        ...    ...      ...     ...       ...          ...            ...   \n",
              "100       101  98199    98199      33  Standard  King County        SEATTLE   \n",
              "108       109  98224    98224      33    PO Box  King County         BARING   \n",
              "118       119  98288    98288      33    PO Box  King County      SKYKOMISH   \n",
              "147       148  98354    98354      33  Standard  King County         MILTON   \n",
              "181       182  98422    98422      33  Standard  King County         TACOMA   \n",
              "\n",
              "      Shape_Length    Shape_Area  \n",
              "0    148134.771476  5.261214e+08  \n",
              "1    105168.476823  2.044452e+08  \n",
              "2    121645.069928  3.169812e+08  \n",
              "3    108801.063326  2.014512e+08  \n",
              "4    116930.354131  2.112733e+08  \n",
              "..             ...           ...  \n",
              "100   56408.722420  1.132192e+08  \n",
              "108  187335.039773  1.720745e+09  \n",
              "118  484891.351634  8.749464e+09  \n",
              "147   25310.379574  1.500487e+07  \n",
              "181   18681.516961  1.593000e+06  \n",
              "\n",
              "[87 rows x 9 columns]"
            ],
            "text/html": [
              "\n",
              "  <div id=\"df-8179c010-b99f-4486-b3fc-fcdee9e1642c\">\n",
              "    <div class=\"colab-df-container\">\n",
              "      <div>\n",
              "<style scoped>\n",
              "    .dataframe tbody tr th:only-of-type {\n",
              "        vertical-align: middle;\n",
              "    }\n",
              "\n",
              "    .dataframe tbody tr th {\n",
              "        vertical-align: top;\n",
              "    }\n",
              "\n",
              "    .dataframe thead th {\n",
              "        text-align: right;\n",
              "    }\n",
              "</style>\n",
              "<table border=\"1\" class=\"dataframe\">\n",
              "  <thead>\n",
              "    <tr style=\"text-align: right;\">\n",
              "      <th></th>\n",
              "      <th>OBJECTID</th>\n",
              "      <th>ZIP</th>\n",
              "      <th>ZIPCODE</th>\n",
              "      <th>COUNTY</th>\n",
              "      <th>ZIP_TYPE</th>\n",
              "      <th>COUNTY_NAME</th>\n",
              "      <th>PREFERRED_CITY</th>\n",
              "      <th>Shape_Length</th>\n",
              "      <th>Shape_Area</th>\n",
              "    </tr>\n",
              "  </thead>\n",
              "  <tbody>\n",
              "    <tr>\n",
              "      <th>0</th>\n",
              "      <td>1</td>\n",
              "      <td>98001</td>\n",
              "      <td>98001</td>\n",
              "      <td>33</td>\n",
              "      <td>Standard</td>\n",
              "      <td>King County</td>\n",
              "      <td>AUBURN</td>\n",
              "      <td>148134.771476</td>\n",
              "      <td>5.261214e+08</td>\n",
              "    </tr>\n",
              "    <tr>\n",
              "      <th>1</th>\n",
              "      <td>2</td>\n",
              "      <td>98002</td>\n",
              "      <td>98002</td>\n",
              "      <td>33</td>\n",
              "      <td>Standard</td>\n",
              "      <td>King County</td>\n",
              "      <td>AUBURN</td>\n",
              "      <td>105168.476823</td>\n",
              "      <td>2.044452e+08</td>\n",
              "    </tr>\n",
              "    <tr>\n",
              "      <th>2</th>\n",
              "      <td>3</td>\n",
              "      <td>98003</td>\n",
              "      <td>98003</td>\n",
              "      <td>33</td>\n",
              "      <td>Standard</td>\n",
              "      <td>King County</td>\n",
              "      <td>FEDERAL WAY</td>\n",
              "      <td>121645.069928</td>\n",
              "      <td>3.169812e+08</td>\n",
              "    </tr>\n",
              "    <tr>\n",
              "      <th>3</th>\n",
              "      <td>4</td>\n",
              "      <td>98004</td>\n",
              "      <td>98004</td>\n",
              "      <td>33</td>\n",
              "      <td>Standard</td>\n",
              "      <td>King County</td>\n",
              "      <td>BELLEVUE</td>\n",
              "      <td>108801.063326</td>\n",
              "      <td>2.014512e+08</td>\n",
              "    </tr>\n",
              "    <tr>\n",
              "      <th>4</th>\n",
              "      <td>5</td>\n",
              "      <td>98005</td>\n",
              "      <td>98005</td>\n",
              "      <td>33</td>\n",
              "      <td>Standard</td>\n",
              "      <td>King County</td>\n",
              "      <td>BELLEVUE</td>\n",
              "      <td>116930.354131</td>\n",
              "      <td>2.112733e+08</td>\n",
              "    </tr>\n",
              "    <tr>\n",
              "      <th>...</th>\n",
              "      <td>...</td>\n",
              "      <td>...</td>\n",
              "      <td>...</td>\n",
              "      <td>...</td>\n",
              "      <td>...</td>\n",
              "      <td>...</td>\n",
              "      <td>...</td>\n",
              "      <td>...</td>\n",
              "      <td>...</td>\n",
              "    </tr>\n",
              "    <tr>\n",
              "      <th>100</th>\n",
              "      <td>101</td>\n",
              "      <td>98199</td>\n",
              "      <td>98199</td>\n",
              "      <td>33</td>\n",
              "      <td>Standard</td>\n",
              "      <td>King County</td>\n",
              "      <td>SEATTLE</td>\n",
              "      <td>56408.722420</td>\n",
              "      <td>1.132192e+08</td>\n",
              "    </tr>\n",
              "    <tr>\n",
              "      <th>108</th>\n",
              "      <td>109</td>\n",
              "      <td>98224</td>\n",
              "      <td>98224</td>\n",
              "      <td>33</td>\n",
              "      <td>PO Box</td>\n",
              "      <td>King County</td>\n",
              "      <td>BARING</td>\n",
              "      <td>187335.039773</td>\n",
              "      <td>1.720745e+09</td>\n",
              "    </tr>\n",
              "    <tr>\n",
              "      <th>118</th>\n",
              "      <td>119</td>\n",
              "      <td>98288</td>\n",
              "      <td>98288</td>\n",
              "      <td>33</td>\n",
              "      <td>PO Box</td>\n",
              "      <td>King County</td>\n",
              "      <td>SKYKOMISH</td>\n",
              "      <td>484891.351634</td>\n",
              "      <td>8.749464e+09</td>\n",
              "    </tr>\n",
              "    <tr>\n",
              "      <th>147</th>\n",
              "      <td>148</td>\n",
              "      <td>98354</td>\n",
              "      <td>98354</td>\n",
              "      <td>33</td>\n",
              "      <td>Standard</td>\n",
              "      <td>King County</td>\n",
              "      <td>MILTON</td>\n",
              "      <td>25310.379574</td>\n",
              "      <td>1.500487e+07</td>\n",
              "    </tr>\n",
              "    <tr>\n",
              "      <th>181</th>\n",
              "      <td>182</td>\n",
              "      <td>98422</td>\n",
              "      <td>98422</td>\n",
              "      <td>33</td>\n",
              "      <td>Standard</td>\n",
              "      <td>King County</td>\n",
              "      <td>TACOMA</td>\n",
              "      <td>18681.516961</td>\n",
              "      <td>1.593000e+06</td>\n",
              "    </tr>\n",
              "  </tbody>\n",
              "</table>\n",
              "<p>87 rows × 9 columns</p>\n",
              "</div>\n",
              "      <button class=\"colab-df-convert\" onclick=\"convertToInteractive('df-8179c010-b99f-4486-b3fc-fcdee9e1642c')\"\n",
              "              title=\"Convert this dataframe to an interactive table.\"\n",
              "              style=\"display:none;\">\n",
              "        \n",
              "  <svg xmlns=\"http://www.w3.org/2000/svg\" height=\"24px\"viewBox=\"0 0 24 24\"\n",
              "       width=\"24px\">\n",
              "    <path d=\"M0 0h24v24H0V0z\" fill=\"none\"/>\n",
              "    <path d=\"M18.56 5.44l.94 2.06.94-2.06 2.06-.94-2.06-.94-.94-2.06-.94 2.06-2.06.94zm-11 1L8.5 8.5l.94-2.06 2.06-.94-2.06-.94L8.5 2.5l-.94 2.06-2.06.94zm10 10l.94 2.06.94-2.06 2.06-.94-2.06-.94-.94-2.06-.94 2.06-2.06.94z\"/><path d=\"M17.41 7.96l-1.37-1.37c-.4-.4-.92-.59-1.43-.59-.52 0-1.04.2-1.43.59L10.3 9.45l-7.72 7.72c-.78.78-.78 2.05 0 2.83L4 21.41c.39.39.9.59 1.41.59.51 0 1.02-.2 1.41-.59l7.78-7.78 2.81-2.81c.8-.78.8-2.07 0-2.86zM5.41 20L4 18.59l7.72-7.72 1.47 1.35L5.41 20z\"/>\n",
              "  </svg>\n",
              "      </button>\n",
              "      \n",
              "  <style>\n",
              "    .colab-df-container {\n",
              "      display:flex;\n",
              "      flex-wrap:wrap;\n",
              "      gap: 12px;\n",
              "    }\n",
              "\n",
              "    .colab-df-convert {\n",
              "      background-color: #E8F0FE;\n",
              "      border: none;\n",
              "      border-radius: 50%;\n",
              "      cursor: pointer;\n",
              "      display: none;\n",
              "      fill: #1967D2;\n",
              "      height: 32px;\n",
              "      padding: 0 0 0 0;\n",
              "      width: 32px;\n",
              "    }\n",
              "\n",
              "    .colab-df-convert:hover {\n",
              "      background-color: #E2EBFA;\n",
              "      box-shadow: 0px 1px 2px rgba(60, 64, 67, 0.3), 0px 1px 3px 1px rgba(60, 64, 67, 0.15);\n",
              "      fill: #174EA6;\n",
              "    }\n",
              "\n",
              "    [theme=dark] .colab-df-convert {\n",
              "      background-color: #3B4455;\n",
              "      fill: #D2E3FC;\n",
              "    }\n",
              "\n",
              "    [theme=dark] .colab-df-convert:hover {\n",
              "      background-color: #434B5C;\n",
              "      box-shadow: 0px 1px 3px 1px rgba(0, 0, 0, 0.15);\n",
              "      filter: drop-shadow(0px 1px 2px rgba(0, 0, 0, 0.3));\n",
              "      fill: #FFFFFF;\n",
              "    }\n",
              "  </style>\n",
              "\n",
              "      <script>\n",
              "        const buttonEl =\n",
              "          document.querySelector('#df-8179c010-b99f-4486-b3fc-fcdee9e1642c button.colab-df-convert');\n",
              "        buttonEl.style.display =\n",
              "          google.colab.kernel.accessAllowed ? 'block' : 'none';\n",
              "\n",
              "        async function convertToInteractive(key) {\n",
              "          const element = document.querySelector('#df-8179c010-b99f-4486-b3fc-fcdee9e1642c');\n",
              "          const dataTable =\n",
              "            await google.colab.kernel.invokeFunction('convertToInteractive',\n",
              "                                                     [key], {});\n",
              "          if (!dataTable) return;\n",
              "\n",
              "          const docLinkHtml = 'Like what you see? Visit the ' +\n",
              "            '<a target=\"_blank\" href=https://colab.research.google.com/notebooks/data_table.ipynb>data table notebook</a>'\n",
              "            + ' to learn more about interactive tables.';\n",
              "          element.innerHTML = '';\n",
              "          dataTable['output_type'] = 'display_data';\n",
              "          await google.colab.output.renderOutput(dataTable, element);\n",
              "          const docLink = document.createElement('div');\n",
              "          docLink.innerHTML = docLinkHtml;\n",
              "          element.appendChild(docLink);\n",
              "        }\n",
              "      </script>\n",
              "    </div>\n",
              "  </div>\n",
              "  "
            ]
          },
          "metadata": {},
          "execution_count": 19
        }
      ]
    },
    {
      "cell_type": "markdown",
      "source": [
        "<h2>Limpeza dos Dataframes roof_df e zipcode_df "
      ],
      "metadata": {
        "id": "73vMmRpZ9IRA"
      }
    },
    {
      "cell_type": "code",
      "source": [
        "#zipcode_df sendo reduzido atraves da criação de novo dataframe somente com o municipio de King County alvo do projeto\n",
        "zipKingCounty_df= zipcode_df[(zipcode_df.COUNTY == 33)]\n",
        "zipKingCounty_df"
      ],
      "metadata": {
        "id": "8Ab080M-G3gc"
      },
      "execution_count": null,
      "outputs": []
    },
    {
      "cell_type": "code",
      "source": [
        "#identificando valores únicos do dataframe zipKingCounty_df\n",
        "zipKingCounty_df.nunique()"
      ],
      "metadata": {
        "id": "xLIVSB3buE3c",
        "outputId": "ea0b6e12-1c7f-452b-d91f-ffdded12cb85",
        "colab": {
          "base_uri": "https://localhost:8080/"
        }
      },
      "execution_count": 21,
      "outputs": [
        {
          "output_type": "execute_result",
          "data": {
            "text/plain": [
              "OBJECTID          87\n",
              "ZIP               87\n",
              "ZIPCODE           87\n",
              "COUNTY             1\n",
              "ZIP_TYPE           2\n",
              "COUNTY_NAME        1\n",
              "PREFERRED_CITY    33\n",
              "Shape_Length      87\n",
              "Shape_Area        87\n",
              "dtype: int64"
            ]
          },
          "metadata": {},
          "execution_count": 21
        }
      ]
    },
    {
      "cell_type": "code",
      "source": [
        "# Verificando o cabeçalho\n",
        "roof_df.head()"
      ],
      "metadata": {
        "id": "TQzQJRhRAxR_"
      },
      "execution_count": null,
      "outputs": []
    },
    {
      "cell_type": "code",
      "source": [
        "# Verificando informações do dataset\n",
        "roof_df.info()"
      ],
      "metadata": {
        "id": "_AwxX-1-A5b9"
      },
      "execution_count": null,
      "outputs": []
    },
    {
      "cell_type": "code",
      "source": [
        "zipcode_df.info()"
      ],
      "metadata": {
        "id": "UlA_-u_ngf-2",
        "outputId": "58e1d7a3-d1b2-459c-c38f-01c0c819c226",
        "colab": {
          "base_uri": "https://localhost:8080/"
        }
      },
      "execution_count": 16,
      "outputs": [
        {
          "output_type": "stream",
          "name": "stdout",
          "text": [
            "<class 'pandas.core.frame.DataFrame'>\n",
            "RangeIndex: 209 entries, 0 to 208\n",
            "Data columns (total 9 columns):\n",
            " #   Column          Non-Null Count  Dtype  \n",
            "---  ------          --------------  -----  \n",
            " 0   OBJECTID        209 non-null    int64  \n",
            " 1   ZIP             209 non-null    int64  \n",
            " 2   ZIPCODE         209 non-null    int64  \n",
            " 3   COUNTY          209 non-null    int64  \n",
            " 4   ZIP_TYPE        209 non-null    object \n",
            " 5   COUNTY_NAME     209 non-null    object \n",
            " 6   PREFERRED_CITY  209 non-null    object \n",
            " 7   Shape_Length    209 non-null    float64\n",
            " 8   Shape_Area      209 non-null    float64\n",
            "dtypes: float64(2), int64(4), object(3)\n",
            "memory usage: 14.8+ KB\n"
          ]
        }
      ]
    },
    {
      "cell_type": "code",
      "source": [
        "# Verificando quantos dados nulos há\n",
        "roof_df.isnull().sum()"
      ],
      "metadata": {
        "id": "GoL8k1jpBnVW"
      },
      "execution_count": null,
      "outputs": []
    },
    {
      "cell_type": "code",
      "source": [
        "#verificando quantos dados nulos há\n",
        "zipcode_df.isnull().sum()"
      ],
      "metadata": {
        "id": "71XdLOFCgvXu"
      },
      "execution_count": null,
      "outputs": []
    },
    {
      "cell_type": "code",
      "source": [
        "df=pd.merge(roof_df, zipcode_df, left_on='zipcode', right_on='ZIPCODE', how='left').drop('ZIPCODE', axis=1)\n",
        "df.head(5)\n"
      ],
      "metadata": {
        "id": "0jnoIceUhdvu",
        "outputId": "4ca32be5-a28a-4455-9862-e6c328609985",
        "colab": {
          "base_uri": "https://localhost:8080/",
          "height": 386
        }
      },
      "execution_count": null,
      "outputs": [
        {
          "output_type": "execute_result",
          "data": {
            "text/plain": [
              "           id       date     price  bedrooms  bathrooms  sqft_living  \\\n",
              "0  7129300520 2014-10-13  221900.0         3       1.00         1180   \n",
              "1  6414100192 2014-12-09  538000.0         3       2.25         2570   \n",
              "2  5631500400 2015-02-25  180000.0         2       1.00          770   \n",
              "3  2487200875 2014-12-09  604000.0         4       3.00         1960   \n",
              "4  1954400510 2015-02-18  510000.0         3       2.00         1680   \n",
              "\n",
              "   sqft_lot  floors  waterfront  view  ...  sqft_living15  sqft_lot15  \\\n",
              "0      5650     1.0           0     0  ...           1340        5650   \n",
              "1      7242     2.0           0     0  ...           1690        7639   \n",
              "2     10000     1.0           0     0  ...           2720        8062   \n",
              "3      5000     1.0           0     0  ...           1360        5000   \n",
              "4      8080     1.0           0     0  ...           1800        7503   \n",
              "\n",
              "   OBJECTID    ZIP  COUNTY  ZIP_TYPE  COUNTY_NAME  PREFERRED_CITY  \\\n",
              "0        97  98178      33  Standard  King County         SEATTLE   \n",
              "1        81  98125      33  Standard  King County         SEATTLE   \n",
              "2        24  98028      33  Standard  King County         KENMORE   \n",
              "3        85  98136      33  Standard  King County         SEATTLE   \n",
              "4        56  98074      33  Standard  King County       SAMMAMISH   \n",
              "\n",
              "    Shape_Length    Shape_Area  \n",
              "0   67151.963868  1.353411e+08  \n",
              "1   66923.859716  1.496818e+08  \n",
              "2   75146.222022  1.732332e+08  \n",
              "3   52855.048472  6.318620e+07  \n",
              "4  115554.667658  3.277498e+08  \n",
              "\n",
              "[5 rows x 29 columns]"
            ],
            "text/html": [
              "\n",
              "  <div id=\"df-10195cd0-3177-4389-a509-f88150e0ea8a\">\n",
              "    <div class=\"colab-df-container\">\n",
              "      <div>\n",
              "<style scoped>\n",
              "    .dataframe tbody tr th:only-of-type {\n",
              "        vertical-align: middle;\n",
              "    }\n",
              "\n",
              "    .dataframe tbody tr th {\n",
              "        vertical-align: top;\n",
              "    }\n",
              "\n",
              "    .dataframe thead th {\n",
              "        text-align: right;\n",
              "    }\n",
              "</style>\n",
              "<table border=\"1\" class=\"dataframe\">\n",
              "  <thead>\n",
              "    <tr style=\"text-align: right;\">\n",
              "      <th></th>\n",
              "      <th>id</th>\n",
              "      <th>date</th>\n",
              "      <th>price</th>\n",
              "      <th>bedrooms</th>\n",
              "      <th>bathrooms</th>\n",
              "      <th>sqft_living</th>\n",
              "      <th>sqft_lot</th>\n",
              "      <th>floors</th>\n",
              "      <th>waterfront</th>\n",
              "      <th>view</th>\n",
              "      <th>...</th>\n",
              "      <th>sqft_living15</th>\n",
              "      <th>sqft_lot15</th>\n",
              "      <th>OBJECTID</th>\n",
              "      <th>ZIP</th>\n",
              "      <th>COUNTY</th>\n",
              "      <th>ZIP_TYPE</th>\n",
              "      <th>COUNTY_NAME</th>\n",
              "      <th>PREFERRED_CITY</th>\n",
              "      <th>Shape_Length</th>\n",
              "      <th>Shape_Area</th>\n",
              "    </tr>\n",
              "  </thead>\n",
              "  <tbody>\n",
              "    <tr>\n",
              "      <th>0</th>\n",
              "      <td>7129300520</td>\n",
              "      <td>2014-10-13</td>\n",
              "      <td>221900.0</td>\n",
              "      <td>3</td>\n",
              "      <td>1.00</td>\n",
              "      <td>1180</td>\n",
              "      <td>5650</td>\n",
              "      <td>1.0</td>\n",
              "      <td>0</td>\n",
              "      <td>0</td>\n",
              "      <td>...</td>\n",
              "      <td>1340</td>\n",
              "      <td>5650</td>\n",
              "      <td>97</td>\n",
              "      <td>98178</td>\n",
              "      <td>33</td>\n",
              "      <td>Standard</td>\n",
              "      <td>King County</td>\n",
              "      <td>SEATTLE</td>\n",
              "      <td>67151.963868</td>\n",
              "      <td>1.353411e+08</td>\n",
              "    </tr>\n",
              "    <tr>\n",
              "      <th>1</th>\n",
              "      <td>6414100192</td>\n",
              "      <td>2014-12-09</td>\n",
              "      <td>538000.0</td>\n",
              "      <td>3</td>\n",
              "      <td>2.25</td>\n",
              "      <td>2570</td>\n",
              "      <td>7242</td>\n",
              "      <td>2.0</td>\n",
              "      <td>0</td>\n",
              "      <td>0</td>\n",
              "      <td>...</td>\n",
              "      <td>1690</td>\n",
              "      <td>7639</td>\n",
              "      <td>81</td>\n",
              "      <td>98125</td>\n",
              "      <td>33</td>\n",
              "      <td>Standard</td>\n",
              "      <td>King County</td>\n",
              "      <td>SEATTLE</td>\n",
              "      <td>66923.859716</td>\n",
              "      <td>1.496818e+08</td>\n",
              "    </tr>\n",
              "    <tr>\n",
              "      <th>2</th>\n",
              "      <td>5631500400</td>\n",
              "      <td>2015-02-25</td>\n",
              "      <td>180000.0</td>\n",
              "      <td>2</td>\n",
              "      <td>1.00</td>\n",
              "      <td>770</td>\n",
              "      <td>10000</td>\n",
              "      <td>1.0</td>\n",
              "      <td>0</td>\n",
              "      <td>0</td>\n",
              "      <td>...</td>\n",
              "      <td>2720</td>\n",
              "      <td>8062</td>\n",
              "      <td>24</td>\n",
              "      <td>98028</td>\n",
              "      <td>33</td>\n",
              "      <td>Standard</td>\n",
              "      <td>King County</td>\n",
              "      <td>KENMORE</td>\n",
              "      <td>75146.222022</td>\n",
              "      <td>1.732332e+08</td>\n",
              "    </tr>\n",
              "    <tr>\n",
              "      <th>3</th>\n",
              "      <td>2487200875</td>\n",
              "      <td>2014-12-09</td>\n",
              "      <td>604000.0</td>\n",
              "      <td>4</td>\n",
              "      <td>3.00</td>\n",
              "      <td>1960</td>\n",
              "      <td>5000</td>\n",
              "      <td>1.0</td>\n",
              "      <td>0</td>\n",
              "      <td>0</td>\n",
              "      <td>...</td>\n",
              "      <td>1360</td>\n",
              "      <td>5000</td>\n",
              "      <td>85</td>\n",
              "      <td>98136</td>\n",
              "      <td>33</td>\n",
              "      <td>Standard</td>\n",
              "      <td>King County</td>\n",
              "      <td>SEATTLE</td>\n",
              "      <td>52855.048472</td>\n",
              "      <td>6.318620e+07</td>\n",
              "    </tr>\n",
              "    <tr>\n",
              "      <th>4</th>\n",
              "      <td>1954400510</td>\n",
              "      <td>2015-02-18</td>\n",
              "      <td>510000.0</td>\n",
              "      <td>3</td>\n",
              "      <td>2.00</td>\n",
              "      <td>1680</td>\n",
              "      <td>8080</td>\n",
              "      <td>1.0</td>\n",
              "      <td>0</td>\n",
              "      <td>0</td>\n",
              "      <td>...</td>\n",
              "      <td>1800</td>\n",
              "      <td>7503</td>\n",
              "      <td>56</td>\n",
              "      <td>98074</td>\n",
              "      <td>33</td>\n",
              "      <td>Standard</td>\n",
              "      <td>King County</td>\n",
              "      <td>SAMMAMISH</td>\n",
              "      <td>115554.667658</td>\n",
              "      <td>3.277498e+08</td>\n",
              "    </tr>\n",
              "  </tbody>\n",
              "</table>\n",
              "<p>5 rows × 29 columns</p>\n",
              "</div>\n",
              "      <button class=\"colab-df-convert\" onclick=\"convertToInteractive('df-10195cd0-3177-4389-a509-f88150e0ea8a')\"\n",
              "              title=\"Convert this dataframe to an interactive table.\"\n",
              "              style=\"display:none;\">\n",
              "        \n",
              "  <svg xmlns=\"http://www.w3.org/2000/svg\" height=\"24px\"viewBox=\"0 0 24 24\"\n",
              "       width=\"24px\">\n",
              "    <path d=\"M0 0h24v24H0V0z\" fill=\"none\"/>\n",
              "    <path d=\"M18.56 5.44l.94 2.06.94-2.06 2.06-.94-2.06-.94-.94-2.06-.94 2.06-2.06.94zm-11 1L8.5 8.5l.94-2.06 2.06-.94-2.06-.94L8.5 2.5l-.94 2.06-2.06.94zm10 10l.94 2.06.94-2.06 2.06-.94-2.06-.94-.94-2.06-.94 2.06-2.06.94z\"/><path d=\"M17.41 7.96l-1.37-1.37c-.4-.4-.92-.59-1.43-.59-.52 0-1.04.2-1.43.59L10.3 9.45l-7.72 7.72c-.78.78-.78 2.05 0 2.83L4 21.41c.39.39.9.59 1.41.59.51 0 1.02-.2 1.41-.59l7.78-7.78 2.81-2.81c.8-.78.8-2.07 0-2.86zM5.41 20L4 18.59l7.72-7.72 1.47 1.35L5.41 20z\"/>\n",
              "  </svg>\n",
              "      </button>\n",
              "      \n",
              "  <style>\n",
              "    .colab-df-container {\n",
              "      display:flex;\n",
              "      flex-wrap:wrap;\n",
              "      gap: 12px;\n",
              "    }\n",
              "\n",
              "    .colab-df-convert {\n",
              "      background-color: #E8F0FE;\n",
              "      border: none;\n",
              "      border-radius: 50%;\n",
              "      cursor: pointer;\n",
              "      display: none;\n",
              "      fill: #1967D2;\n",
              "      height: 32px;\n",
              "      padding: 0 0 0 0;\n",
              "      width: 32px;\n",
              "    }\n",
              "\n",
              "    .colab-df-convert:hover {\n",
              "      background-color: #E2EBFA;\n",
              "      box-shadow: 0px 1px 2px rgba(60, 64, 67, 0.3), 0px 1px 3px 1px rgba(60, 64, 67, 0.15);\n",
              "      fill: #174EA6;\n",
              "    }\n",
              "\n",
              "    [theme=dark] .colab-df-convert {\n",
              "      background-color: #3B4455;\n",
              "      fill: #D2E3FC;\n",
              "    }\n",
              "\n",
              "    [theme=dark] .colab-df-convert:hover {\n",
              "      background-color: #434B5C;\n",
              "      box-shadow: 0px 1px 3px 1px rgba(0, 0, 0, 0.15);\n",
              "      filter: drop-shadow(0px 1px 2px rgba(0, 0, 0, 0.3));\n",
              "      fill: #FFFFFF;\n",
              "    }\n",
              "  </style>\n",
              "\n",
              "      <script>\n",
              "        const buttonEl =\n",
              "          document.querySelector('#df-10195cd0-3177-4389-a509-f88150e0ea8a button.colab-df-convert');\n",
              "        buttonEl.style.display =\n",
              "          google.colab.kernel.accessAllowed ? 'block' : 'none';\n",
              "\n",
              "        async function convertToInteractive(key) {\n",
              "          const element = document.querySelector('#df-10195cd0-3177-4389-a509-f88150e0ea8a');\n",
              "          const dataTable =\n",
              "            await google.colab.kernel.invokeFunction('convertToInteractive',\n",
              "                                                     [key], {});\n",
              "          if (!dataTable) return;\n",
              "\n",
              "          const docLinkHtml = 'Like what you see? Visit the ' +\n",
              "            '<a target=\"_blank\" href=https://colab.research.google.com/notebooks/data_table.ipynb>data table notebook</a>'\n",
              "            + ' to learn more about interactive tables.';\n",
              "          element.innerHTML = '';\n",
              "          dataTable['output_type'] = 'display_data';\n",
              "          await google.colab.output.renderOutput(dataTable, element);\n",
              "          const docLink = document.createElement('div');\n",
              "          docLink.innerHTML = docLinkHtml;\n",
              "          element.appendChild(docLink);\n",
              "        }\n",
              "      </script>\n",
              "    </div>\n",
              "  </div>\n",
              "  "
            ]
          },
          "metadata": {},
          "execution_count": 18
        }
      ]
    },
    {
      "cell_type": "code",
      "source": [
        "#identificando valores únicos do dataframe df\n",
        "df.nunique()"
      ],
      "metadata": {
        "id": "jneZmIZPWWbo",
        "outputId": "dbd3497a-dc47-4dbc-8861-0ae9aece679d",
        "colab": {
          "base_uri": "https://localhost:8080/"
        }
      },
      "execution_count": null,
      "outputs": [
        {
          "output_type": "execute_result",
          "data": {
            "text/plain": [
              "id                21436\n",
              "date                372\n",
              "price              4028\n",
              "bedrooms             13\n",
              "bathrooms            30\n",
              "sqft_living        1038\n",
              "sqft_lot           9782\n",
              "floors                6\n",
              "waterfront            2\n",
              "view                  5\n",
              "condition             5\n",
              "grade                12\n",
              "sqft_above          946\n",
              "sqft_basement       306\n",
              "yr_built            116\n",
              "yr_renovated         70\n",
              "zipcode              70\n",
              "lat                5034\n",
              "long                752\n",
              "sqft_living15       777\n",
              "sqft_lot15         8689\n",
              "OBJECTID             77\n",
              "ZIP                  70\n",
              "COUNTY                3\n",
              "ZIP_TYPE              1\n",
              "COUNTY_NAME           3\n",
              "PREFERRED_CITY       25\n",
              "Shape_Length         77\n",
              "Shape_Area           77\n",
              "dtype: int64"
            ]
          },
          "metadata": {},
          "execution_count": 8
        }
      ]
    },
    {
      "cell_type": "code",
      "source": [
        "#removendo coluna zip pois no zipcode tem as mesmas informações\n",
        "df.drop('ZIP', axis=1, inplace=True)"
      ],
      "metadata": {
        "id": "QulfYc1PXMJg"
      },
      "execution_count": null,
      "outputs": []
    },
    {
      "cell_type": "code",
      "source": [
        "OBJECTID COUNTY\tZIP_TYPE"
      ],
      "metadata": {
        "id": "mloNpjz78Cp0"
      },
      "execution_count": null,
      "outputs": []
    },
    {
      "cell_type": "code",
      "source": [
        "#funções para ajustar data\n",
        "df['month']=df['date'].apply(lambda date:date.month)\n",
        "df['year']= df['date'].apply(lambda date:date.year)\n",
        "sns.boxplot(x='year', y='price', data=df);"
      ],
      "metadata": {
        "id": "bEBMoHtJrz2u"
      },
      "execution_count": null,
      "outputs": []
    },
    {
      "cell_type": "code",
      "source": [
        "'''roof_df[:12]\n",
        "#renomeando colunas\n",
        "roof_df= roof_df.rename(columns={'Identificador único do imóvel':'Id Imóvel',\n",
        " 'date':'Data da Venda','price':'Preço','bedrooms':'Nº de Quartos','bathrooms':'Nº de Banheiros','sqft_living':'Área hab. em ft²','sqft_lot':'Terreno em ft²','floors':'Nº de andares','waterfront':'Beira-mar','view':'vista do imóvel','condition':'Condição','grade':'Classificação/Qualidade Material','sqft_above':'Área acima do solo em ft²','sqft_basement':'Área em baixo do solo em ft²','yr_built':'Ano de construção','yr_renovated':'Ano de restauração','zipcode':'ZIP Code 5','lat':'latitude','long':'Longitude','sqft_living15':'Média da área Hab. dos 15 imóveis + proximos em ft²','sqft_lot15':'Média da área do lote dos 15 imóveis + próximos em ft²'})'''"
      ],
      "metadata": {
        "id": "5YREqmxxE3iX"
      },
      "execution_count": null,
      "outputs": []
    },
    {
      "cell_type": "code",
      "source": [
        "#df.groupby(['Animal']).mean()Max Speed\n",
        "#df.sort_values(by=['col1'])\n",
        "'''roof_df.groupby(['Preço']).max()\n",
        "df_max_roof=roof_df.groupby(['Preço']).max()\n",
        "df_max_roof.sort_values(by=['Preço'],ascending=False)'''\n",
        "df.sort_values('price',ascending=False).head(5)\n"
      ],
      "metadata": {
        "id": "9lJ2YWHEkUZ9"
      },
      "execution_count": null,
      "outputs": []
    },
    {
      "cell_type": "code",
      "source": [
        "#encontrar a cidade do imovel\n",
        "\n"
      ],
      "metadata": {
        "id": "XfnTKU1GrXoE"
      },
      "execution_count": null,
      "outputs": []
    }
  ]
}